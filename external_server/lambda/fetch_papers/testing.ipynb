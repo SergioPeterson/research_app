{
 "cells": [
  {
   "cell_type": "code",
   "execution_count": 2,
   "metadata": {},
   "outputs": [
    {
     "name": "stdout",
     "output_type": "stream",
     "text": [
      "Exported 30 papers to arxiv_papers_dump.json\n"
     ]
    }
   ],
   "source": [
    "import os\n",
    "import json\n",
    "import dotenv\n",
    "import psycopg2\n",
    "import psycopg2.extras\n",
    "from datetime import datetime\n",
    "\n",
    "# Load environment variables\n",
    "dotenv.load_dotenv()\n",
    "\n",
    "def convert_datetime(obj):\n",
    "    if isinstance(obj, datetime):\n",
    "        return obj.isoformat()\n",
    "    raise TypeError(f\"Type {type(obj)} not serializable\")\n",
    "\n",
    "def export_arxiv_papers(local=True, output_file=\"arxiv_papers_dump.json\"):\n",
    "    db_params = {\n",
    "        \"dbname\": os.getenv(\"LOCAL_PGDATABASE\") if local else os.getenv(\"PGDATABASE\"),\n",
    "        \"user\": os.getenv(\"LOCAL_PGUSER\") if local else os.getenv(\"PGUSER\"),\n",
    "        \"password\": os.getenv(\"LOCAL_PGPASSWORD\") if local else os.getenv(\"PGPASSWORD\"),\n",
    "        \"host\": os.getenv(\"LOCAL_PGHOST\") if local else os.getenv(\"PGHOST\"),\n",
    "        \"port\": os.getenv(\"LOCAL_PGPORT\") if local else os.getenv(\"PGPORT\", \"5432\"),\n",
    "    }\n",
    "\n",
    "    try:\n",
    "        conn = psycopg2.connect(**db_params)\n",
    "        cursor = conn.cursor(cursor_factory=psycopg2.extras.DictCursor)\n",
    "\n",
    "        cursor.execute(\"SELECT * FROM arxiv_papers;\")\n",
    "        rows = cursor.fetchall()\n",
    "\n",
    "        papers = [dict(row) for row in rows]\n",
    "\n",
    "        with open(output_file, \"w\", encoding=\"utf-8\") as f:\n",
    "            json.dump(papers, f, ensure_ascii=False, indent=4, default=convert_datetime)\n",
    "\n",
    "        print(f\"Exported {len(papers)} papers to {output_file}\")\n",
    "\n",
    "    except Exception as e:\n",
    "        print(\"Error:\", e)\n",
    "    finally:\n",
    "        if conn:\n",
    "            conn.close()\n",
    "\n",
    "# Run the export\n",
    "export_arxiv_papers(local=True)"
   ]
  },
  {
   "cell_type": "code",
   "execution_count": null,
   "metadata": {},
   "outputs": [],
   "source": []
  }
 ],
 "metadata": {
  "language_info": {
   "name": "python"
  }
 },
 "nbformat": 4,
 "nbformat_minor": 2
}
