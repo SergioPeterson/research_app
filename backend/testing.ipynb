{
 "cells": [
  {
   "cell_type": "code",
   "execution_count": 1,
   "metadata": {},
   "outputs": [],
   "source": [
    "import urllib.request as libreq\n",
    "import xml.etree.ElementTree as ET\n",
    "\n",
    "with libreq.urlopen('https://export.arxiv.org/api/query?search_query=submittedDate:[202504240000+TO+202504242459]&start=0&max_results=2000') as url:\n",
    "    r = url.read()\n",
    "\n",
    "# Decode bytes to string\n",
    "xml_string = r.decode('utf-8')\n",
    "\n",
    "# Parse XML\n",
    "root = ET.fromstring(xml_string)"
   ]
  },
  {
   "cell_type": "code",
   "execution_count": 2,
   "metadata": {},
   "outputs": [],
   "source": [
    "paper_data = {}\n",
    "namespace = {'atom': 'http://www.w3.org/2005/Atom'}\n",
    "for entry in root.findall('atom:entry', namespace):\n",
    "    title = entry.find('atom:title', namespace).text\n",
    "    summary = entry.find('atom:summary', namespace).text\n",
    "    link = entry.find('atom:id', namespace).text\n",
    "    published = entry.find('atom:published', namespace).text\n",
    "    # Get all authors\n",
    "    authors = []\n",
    "    for author in entry.findall('atom:author', namespace):\n",
    "        author_name = author.find('atom:name', namespace).text\n",
    "        authors.append(author_name)\n",
    "    paper_id = link.split('/')[-1]\n",
    "    paper_data[paper_id] = {\n",
    "        'title': title,\n",
    "        'summary': summary,\n",
    "        'link': link,\n",
    "        'published': published,\n",
    "        'authors': authors\n",
    "    }"
   ]
  },
  {
   "cell_type": "code",
   "execution_count": 3,
   "metadata": {},
   "outputs": [],
   "source": [
    "example_paper = paper_data[\"2504.17149v1\"]"
   ]
  },
  {
   "cell_type": "code",
   "execution_count": 5,
   "metadata": {},
   "outputs": [],
   "source": [
    "import pymupdf\n",
    "import urllib.request\n",
    "import io\n",
    "\n",
    "# Download the PDF from the arXiv link\n",
    "pdf_url = example_paper[\"link\"].replace('abs', 'pdf') + '.pdf'\n",
    "pdf_data = urllib.request.urlopen(pdf_url).read()\n",
    "\n",
    "# Open the PDF from memory\n",
    "doc = pymupdf.open(stream=pdf_data, filetype=\"pdf\")\n",
    "pdf_text = \"\"\n",
    "for page in doc: # iterate the document pages\n",
    "    text = page.get_text() # get plain text\n",
    "    pdf_text += text + \"\\f\" # add page delimiter (form feed)\n"
   ]
  },
  {
   "cell_type": "code",
   "execution_count": 6,
   "metadata": {},
   "outputs": [],
   "source": [
    "pdf_text=pdf_text.replace(\"\\n\", \"\")\n"
   ]
  },
  {
   "cell_type": "code",
   "execution_count": null,
   "metadata": {},
   "outputs": [],
   "source": [
    "import os\n",
    "import openai\n",
    "import dotenv\n",
    "\n",
    "dotenv.load_dotenv()\n",
    "client = openai.OpenAI(api_key=os.getenv(\"OPENAI_API_KEY\"))\n",
    "\n",
    "\n",
    "# Prepare the prompt for GPT-3.5-turbo\n",
    "prompt = f\"\"\"Please analyze this academic paper and provide:\n",
    "1. A concise summary\n",
    "2. Key keywords\n",
    "3. Organizations/institutions involved NONE if not provided\n",
    "\n",
    "Paper text:\n",
    "{pdf_text[:4000]}  # Limiting text length to stay within token limits\n",
    "\"\"\"\n",
    "\n",
    "# Make API call\n",
    "response = client.chat.completions.create(\n",
    "    model=\"gpt-3.5-turbo\",\n",
    "    messages=[\n",
    "        {\"role\": \"system\", \"content\": \"You are an expert academic paper analyzer.\"},\n",
    "        {\"role\": \"user\", \"content\": prompt}\n",
    "    ],\n",
    "    temperature=0.3\n",
    ")\n",
    "\n",
    "# Extract and print the analysis\n",
    "analysis = response.choices[0].message.content\n",
    "print(analysis)\n",
    "\n",
    "# Optionally save the analysis to a file\n",
    "with open('paper_analysis.txt', 'w', encoding='utf-8') as f:\n",
    "    f.write(analysis)\n"
   ]
  },
  {
   "cell_type": "code",
   "execution_count": 11,
   "metadata": {},
   "outputs": [
    {
     "name": "stdout",
     "output_type": "stream",
     "text": [
      "{\n",
      "  \"Summary\": \"This paper proposes a critical pragmatic philosophy for sustainable mathematics education to bridge the gap between critical theory and current implementations. It combines existential sustainability with pragmatic frameworks from ethics in mathematics education, leading to a three-stage implementation strategy: cultivating ethical classroom culture, ethnomathematics engagement, and addressing complex sustainability problems. The approach aims to equip teachers and students with necessary mathematical competencies, critical perspectives, and ethical grounding for a sustainable future.\",\n",
      "  \"Keywords\": \"Sustainable Mathematics Education, Critical Pragmatism, Existential Sustainability, Ethics in Mathematics Education\",\n",
      "  \"Organizations\": [\n",
      "    \"University of Cologne\"\n",
      "  ]\n",
      "}\n"
     ]
    }
   ],
   "source": [
    "import os\n",
    "from google import genai\n",
    "from google.genai import types\n",
    "import dotenv\n",
    "import json\n",
    "import re\n",
    "\n",
    "dotenv.load_dotenv()\n",
    "client = genai.Client(api_key=os.getenv(\"GEMINI_API_KEY\"))\n",
    "\n",
    "# Prepare the prompt for Gemini\n",
    "prompt = f\"\"\"Please analyze this academic paper and provide the following information in JSON format:\n",
    "Use this JSON schema:\n",
    "{{\n",
    "    \"Summary\": \"A concise summary of the paper\",\n",
    "    \"Keywords\": \"Comma-separated list of key keywords\",\n",
    "    \"Organizations\": \"List of organizations/institutions involved or 'NONE' if not provided\"\n",
    "}}\n",
    "\n",
    "Paper text:\n",
    "{pdf_text[:4000]}  # Limiting text length to stay within token limits\n",
    "\"\"\"\n",
    "\n",
    "response = client.models.generate_content(\n",
    "    model=\"gemini-2.0-flash\",\n",
    "    config=types.GenerateContentConfig(\n",
    "        system_instruction=\"You are an expert academic paper analyzer. Return the analysis in valid JSON format.\"),\n",
    "    contents=prompt\n",
    ")\n",
    "\n",
    "# Clean up the response text\n",
    "clean_text = response.text.strip()\n",
    "\n",
    "# Remove any leading or trailing markdown code blocks\n",
    "clean_text = re.sub(r\"^```json\\s*|\\s*```$\", \"\", clean_text)\n",
    "\n",
    "try:\n",
    "    analysis_json = json.loads(clean_text)\n",
    "    print(json.dumps(analysis_json, indent=2))\n",
    "except json.JSONDecodeError as e:\n",
    "    print(\"Error: Response was not in valid JSON format\")\n",
    "    print(clean_text)"
   ]
  },
  {
   "cell_type": "code",
   "execution_count": 15,
   "metadata": {},
   "outputs": [
    {
     "data": {
      "text/plain": [
       "{'title': 'Towards a Critical Pragmatic Philosophy of Sustainable Mathematics\\n  Education',\n",
       " 'summary': '  This paper proposes critical pragmatism as a philosophy of sustainable\\nmathematics education to bridge the gap between critical theory and the\\nexisting patchwork implementations. Combining existential sustainability as a\\nholistic concept with pragmatic frameworks from the ethics in mathematics\\neducation literature creates a foundation enabling critical reflection and\\npragmatic implementation. We outline how their synthesis naturally leads to a\\nthree-stage implementation strategy: cultivating an ethical classroom culture,\\nengaging with ethnomathematics, and tackling complex sustainability problems.\\nOur critical pragmatic approach attempts to build a new philosophical\\nperspective to equip teachers and students with the mathematical competencies,\\ncritical perspectives, and ethical grounding necessary to navigate and\\ncontribute to a sustainable future and to provide new analytic pathways.\\n',\n",
       " 'link': 'http://arxiv.org/abs/2504.17149v1',\n",
       " 'published': '2025-04-24T00:02:24Z',\n",
       " 'authors': ['Dennis Müller']}"
      ]
     },
     "execution_count": 15,
     "metadata": {},
     "output_type": "execute_result"
    }
   ],
   "source": [
    "example_paper"
   ]
  },
  {
   "cell_type": "code",
   "execution_count": null,
   "metadata": {},
   "outputs": [],
   "source": []
  }
 ],
 "metadata": {
  "language_info": {
   "name": "python"
  }
 },
 "nbformat": 4,
 "nbformat_minor": 2
}
